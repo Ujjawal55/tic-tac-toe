{
 "cells": [
  {
   "cell_type": "markdown",
   "id": "3e18c24e",
   "metadata": {},
   "source": [
    "# SIMPLE USER INTERACTION "
   ]
  },
  {
   "cell_type": "code",
   "execution_count": 1,
   "id": "9740649c",
   "metadata": {},
   "outputs": [],
   "source": [
    "def display_game(game_list):\n",
    "    print('This is the current list: ')\n",
    "    print(game_list)"
   ]
  },
  {
   "cell_type": "code",
   "execution_count": 2,
   "id": "3a7d05a8",
   "metadata": {},
   "outputs": [],
   "source": [
    "def position_choice():\n",
    "\n",
    "    choice = False\n",
    "\n",
    "    while choice == False:\n",
    "        while True:\n",
    "            try:\n",
    "                position = int(input('Please choose a position in (0,1,2): \\n'))\n",
    "            except:\n",
    "                print('Sorry wrong input position should be an integer \\n')\n",
    "                continue\n",
    "            else:\n",
    "                break\n",
    "        if position in [0,1,2]:\n",
    "            choice = True\n",
    "            return position\n",
    "        else:\n",
    "            print('Please choose from [0,1,2]')\n",
    "            \n",
    "            \n",
    "            "
   ]
  },
  {
   "cell_type": "code",
   "execution_count": 3,
   "id": "c7336cc1",
   "metadata": {},
   "outputs": [],
   "source": [
    "def value_assign(game_list, position ):\n",
    "\n",
    "    value = input('Enter something:\\n ')\n",
    "\n",
    "    game_list[position] = value\n",
    "    \n",
    "    return game_list"
   ]
  },
  {
   "cell_type": "code",
   "execution_count": 9,
   "id": "81c149c7",
   "metadata": {},
   "outputs": [],
   "source": [
    "def gameon_choice():\n",
    "    \n",
    "    choice = False\n",
    "    \n",
    "    while choice == False:\n",
    "        \n",
    "        user_choice = input('Do you want to continue Y or N:\\n ')\n",
    "        \n",
    "        if user_choice in ['Y','N']:\n",
    "            choice = True\n",
    "        else:\n",
    "            print('Invalid choice! choose Y or N ')\n",
    "        \n",
    "    if user_choice == 'Y':\n",
    "        return True\n",
    "    else:\n",
    "        return False\n",
    "        "
   ]
  },
  {
   "cell_type": "code",
   "execution_count": 10,
   "id": "6b8028ca",
   "metadata": {},
   "outputs": [
    {
     "name": "stdout",
     "output_type": "stream",
     "text": [
      "This is the current list: \n",
      "[0, 1, 2]\n",
      "Please choose a position in (0,1,2): \n",
      "0\n",
      "Enter something:\n",
      " h\n",
      "This is the current list: \n",
      "['h', 1, 2]\n",
      "Do you want to continue Y or N:\n",
      " N\n",
      "Thank you for playing \n"
     ]
    }
   ],
   "source": [
    "game_on = True\n",
    "game_list = [0,1,2]\n",
    "\n",
    "while game_on:\n",
    "    \n",
    "    \n",
    "    display_game(game_list)\n",
    "    \n",
    "    position = position_choice()\n",
    "    \n",
    "    game_list = value_assign(game_list,position)\n",
    "    \n",
    "    display_game(game_list)\n",
    "    \n",
    "    game_on = gameon_choice()\n",
    "\n",
    "print('Thank you for playing ')\n"
   ]
  },
  {
   "cell_type": "markdown",
   "id": "c306a4d9",
   "metadata": {},
   "source": [
    "#  TIC - TAC - TOE"
   ]
  },
  {
   "cell_type": "code",
   "execution_count": 2,
   "id": "f30f7e44",
   "metadata": {},
   "outputs": [],
   "source": [
    "from IPython.display import clear_output"
   ]
  },
  {
   "cell_type": "code",
   "execution_count": null,
   "id": "c3269149",
   "metadata": {},
   "outputs": [],
   "source": []
  },
  {
   "cell_type": "code",
   "execution_count": 3,
   "id": "1a666e4d",
   "metadata": {},
   "outputs": [],
   "source": [
    "def display_board(board):\n",
    "    clear_output() # clear output before showing the new board everytime:::\n",
    "    print(' '*10 + '|' + ' '*12 + '|' + ' '*12 + '|')\n",
    "    print(' '*9 + board[1]+ '|' + ' '*11 + board[2] + '|' + ' '*11 + board[3] + '|')\n",
    "    print(' '*10 + '|' + ' '*12 + '|' + ' '*12 + '|' + '\\n')\n",
    "    print('--------------------------------------------------' + '\\n')\n",
    "    \n",
    "    print(' '*10 + '|' + ' '*12 + '|' + ' '*12 + '|')\n",
    "    print(' '*9 + board[4]+ '|' + ' '*11 + board[5] + '|' + ' '*11 + board[6] + '|')\n",
    "    print(' '*10 + '|' + ' '*12 + '|' + ' '*12 + '|' + '\\n')\n",
    "    print('--------------------------------------------------' + '\\n')\n",
    "    \n",
    "    print(' '*10 + '|' + ' '*12 + '|' + ' '*12 + '|')\n",
    "    print(' '*9 + board[7]+ '|' + ' '*11 + board[8] + '|' + ' '*11 + board[9] + '|')\n",
    "    print(' '*10 + '|' + ' '*12 + '|' + ' '*12 + '|' + '\\n')\n",
    "    "
   ]
  },
  {
   "cell_type": "code",
   "execution_count": null,
   "id": "df0f55b5",
   "metadata": {},
   "outputs": [],
   "source": [
    "\n"
   ]
  },
  {
   "cell_type": "code",
   "execution_count": 4,
   "id": "9e2fb94e",
   "metadata": {},
   "outputs": [],
   "source": [
    "def ready_or_not(): # checking whether player want to play or not:::\n",
    "    choice = ''\n",
    "    while choice not in ['yes','no']:\n",
    "        choice = input('Are you ready to play: (YES OR NO) ').lower()\n",
    "        if choice not in ['yes','no']:\n",
    "            print('Please choose (yes or no only)')\n",
    "        elif choice == 'yes':\n",
    "            return True\n",
    "        else:\n",
    "            return False "
   ]
  },
  {
   "cell_type": "code",
   "execution_count": null,
   "id": "0ed667c0",
   "metadata": {},
   "outputs": [],
   "source": []
  },
  {
   "cell_type": "code",
   "execution_count": 5,
   "id": "786c43d6",
   "metadata": {},
   "outputs": [],
   "source": [
    "def marker_selection(): # returing a tuple where one player is selecting the marker and other's player marker is going to be accroding the choice of first player:::\n",
    "    marker = ''\n",
    "    while marker not in ['X','O']:\n",
    "        marker = input('player1: choose a marker (X OR O) ').upper()\n",
    "        if marker not in ['X','O']:\n",
    "            print('sorry invalid marker please choose (X OR O)')\n",
    "    if marker == 'X':\n",
    "        return ('X','O')\n",
    "    else:\n",
    "        return ('O','X')"
   ]
  },
  {
   "cell_type": "code",
   "execution_count": null,
   "id": "5424c0e9",
   "metadata": {},
   "outputs": [],
   "source": []
  },
  {
   "cell_type": "code",
   "execution_count": null,
   "id": "60708ffa",
   "metadata": {},
   "outputs": [],
   "source": []
  },
  {
   "cell_type": "code",
   "execution_count": 6,
   "id": "0d7c5aa5",
   "metadata": {},
   "outputs": [],
   "source": [
    "def position_input():  # function to taake the position input from the user \n",
    "    index = 0\n",
    "    while index not in ['1','2','3','4','5','6','7','8','9']:\n",
    "        index = input('choose a position from (1-9): ') # taking number input but as a string \n",
    "        if index not in ['1','2','3','4','5','6','7','8','9']:\n",
    "            print('soory invalid input!! please choose from (1-9): ')\n",
    "        else:\n",
    "            return int(index) # returing the number input in interger "
   ]
  },
  {
   "cell_type": "code",
   "execution_count": null,
   "id": "0cead1c9",
   "metadata": {},
   "outputs": [],
   "source": []
  },
  {
   "cell_type": "code",
   "execution_count": 7,
   "id": "b542a129",
   "metadata": {},
   "outputs": [],
   "source": [
    "def position_check(board,position):\n",
    "    # checking the position choosen by the player is occupied or not:::\n",
    "    return board[position] == ' '"
   ]
  },
  {
   "cell_type": "code",
   "execution_count": null,
   "id": "a7b8ad13",
   "metadata": {},
   "outputs": [],
   "source": []
  },
  {
   "cell_type": "code",
   "execution_count": 8,
   "id": "2d6e3bf4",
   "metadata": {},
   "outputs": [],
   "source": [
    "def replay(): # this function take the input after the game is finished either by tie or by individual win::\n",
    "    choice = 'wrong'\n",
    "    while choice not in ['yes','no']:\n",
    "        choice = input('Do you want to Continue: (yes or no)').lower()\n",
    "        if choice not in ['yes','no']:\n",
    "            print('wrong choice, please choose yes or no only: ')\n",
    "    if choice == 'yes':\n",
    "        return True\n",
    "    else:\n",
    "        return False # note:: it is returnig a boolean value which can be used in other if-statement or looping statement::::\n",
    "        "
   ]
  },
  {
   "cell_type": "code",
   "execution_count": null,
   "id": "4f226468",
   "metadata": {},
   "outputs": [],
   "source": []
  },
  {
   "cell_type": "code",
   "execution_count": 9,
   "id": "65e32697",
   "metadata": {},
   "outputs": [],
   "source": [
    "def win_check(board,marker): # making all possible combination in which a player can win:::\n",
    "    # note:: you cannot write b[1]==b[2]==b[3] because iniitially all the places have spaces::: it return true in first step\n",
    "    if ((board[1] == marker and board[2] ==  marker and board[3]  ==  marker) or # first row check \n",
    "    (board[4] == marker   and board[5] ==  marker and board[6]  ==  marker) or  # second row check\n",
    "    (board[7] == marker   and board[8] ==  marker and board[9]  ==  marker) or # third row check \n",
    "    (board[1] ==  marker  and board[4] ==  marker and board[7]  ==  marker) or # first column check\n",
    "    (board[2] ==  marker  and board[5] ==  marker and board[8]  ==  marker) or # second column check\n",
    "    (board[3] ==  marker  and board[5] ==  marker and board[9]  ==  marker) or # left diagonal check\n",
    "    (board[3] ==  marker  and board[5] ==  marker and board[7]  ==  marker)):   # right diagonal check\n",
    "        return True\n",
    "    else:\n",
    "        return False"
   ]
  },
  {
   "cell_type": "code",
   "execution_count": null,
   "id": "dfd412bf",
   "metadata": {},
   "outputs": [],
   "source": []
  },
  {
   "cell_type": "code",
   "execution_count": 11,
   "id": "dc11f29f",
   "metadata": {},
   "outputs": [
    {
     "name": "stdout",
     "output_type": "stream",
     "text": [
      "          |            |            |\n",
      "         X|           O|           X|\n",
      "          |            |            |\n",
      "\n",
      "--------------------------------------------------\n",
      "\n",
      "          |            |            |\n",
      "         O|           X|           O|\n",
      "          |            |            |\n",
      "\n",
      "--------------------------------------------------\n",
      "\n",
      "          |            |            |\n",
      "         X|           X|           O|\n",
      "          |            |            |\n",
      "\n",
      "player1 Won \n",
      "Do you want to Continue: (yes or no)no\n",
      "Thanks for playing  \n"
     ]
    }
   ],
   "source": [
    "'''Basic idea is that we deal with each player moves seprately:: '''\n",
    "board = [' ']*10 # making a board with each space is occupied by a blank spaces\n",
    "'''step1:: asking user whether he/she want to play or not if answer is yes then we proceed\n",
    "   step2:: game started, showing the board \n",
    "   step3:: defining a variable i which tells us which player (player1 or player2) is giving the input'''\n",
    "\n",
    "readyornot = ready_or_not()\n",
    "if readyornot == True:\n",
    "    player1_marker,player2_marker = marker_selection()\n",
    "display_board(board)   \n",
    "game_on = True\n",
    "i = 0 \n",
    "while (game_on == True):\n",
    "    if i in [0,2,4,6,8]: # these possible combination of i in which first player gives the input::\n",
    "        i+=1\n",
    "        \n",
    "        position_1 = position_input() # taking the input from the user by using input function:::\n",
    "\n",
    "        if position_check(board,position_1) == True: # checking whether the input position is filled or empty\n",
    "            board[position_1] = player1_marker ## if the input place is empty placing the x or o at that point::\n",
    "        else:\n",
    "            print('soory this position is already occupied:  ')\n",
    "\n",
    "        \n",
    "        display_board(board)\n",
    "\n",
    "        if win_check(board,player1_marker) == True: ### checking whether the player wins the game or not\n",
    "            print('player1 Won ')\n",
    "            if replay() == True: # if player has won the game then asking him/her whether they want to continue or not::\n",
    "                board = [' ']*10 ## if they say yes reseting the value of board \n",
    "                i = 0            # reseting the i value\n",
    "                display_board(board)\n",
    "            else:\n",
    "                print('Thanks for playing  ')\n",
    "                game_on = False\n",
    "        else:\n",
    "            pass\n",
    "\n",
    "    elif i in [1,3,5,7]:\n",
    "        i+=1\n",
    "        display_board(board)\n",
    "        position_2 = position_input()\n",
    "       \n",
    "\n",
    "        if position_check(board,position_2) == True:\n",
    "            board[position_2] = player2_marker\n",
    "        else:\n",
    "            print('soory this position is already occupied:  ')\n",
    "\n",
    "        display_board(board)\n",
    "\n",
    "        if win_check(board,player2_marker) == True:\n",
    "            print('player2 Won ')\n",
    "            if replay() == True:\n",
    "                board = [' ']*10\n",
    "                i = 0\n",
    "                display_board(board)\n",
    "            else:\n",
    "                print('Thanks for playing  ')\n",
    "                game_on = False\n",
    "        else:\n",
    "            pass\n",
    "\n",
    "    else:\n",
    "        print('TIE!!! ')\n",
    "        if replay() == True:\n",
    "            board = [' ']*10\n",
    "            i = 0\n",
    "            display_board(board)\n",
    "        else:\n",
    "            print('Thanks for playing  ')\n",
    "            game_on = False\n",
    "    '''NOTE:: DO not use the clear_output function like this \n",
    "            1. clear_output(wait=True)\n",
    "            2. print something\n",
    "            3. asking for input:\n",
    "            it will hide the input prompt''' \n",
    "            "
   ]
  },
  {
   "cell_type": "code",
   "execution_count": 14,
   "id": "c271fb57",
   "metadata": {},
   "outputs": [],
   "source": [
    "i = 0\n",
    "if i == 0:\n",
    "    print"
   ]
  },
  {
   "cell_type": "code",
   "execution_count": null,
   "id": "54fc63cd",
   "metadata": {},
   "outputs": [],
   "source": []
  },
  {
   "cell_type": "code",
   "execution_count": 3,
   "id": "71f00b85",
   "metadata": {},
   "outputs": [
    {
     "name": "stdout",
     "output_type": "stream",
     "text": [
      "hello\n",
      "3\n"
     ]
    }
   ],
   "source": [
    "a = input(';')\n",
    "clear_output()\n",
    "print('hello')\n",
    "b=input('')"
   ]
  },
  {
   "cell_type": "code",
   "execution_count": null,
   "id": "de6542b4",
   "metadata": {},
   "outputs": [],
   "source": []
  },
  {
   "cell_type": "code",
   "execution_count": null,
   "id": "5bfc6ba8",
   "metadata": {},
   "outputs": [],
   "source": []
  },
  {
   "cell_type": "code",
   "execution_count": null,
   "id": "9f4a1530",
   "metadata": {},
   "outputs": [],
   "source": []
  }
 ],
 "metadata": {
  "kernelspec": {
   "display_name": "Python 3 (ipykernel)",
   "language": "python",
   "name": "python3"
  },
  "language_info": {
   "codemirror_mode": {
    "name": "ipython",
    "version": 3
   },
   "file_extension": ".py",
   "mimetype": "text/x-python",
   "name": "python",
   "nbconvert_exporter": "python",
   "pygments_lexer": "ipython3",
   "version": "3.9.15"
  }
 },
 "nbformat": 4,
 "nbformat_minor": 5
}
